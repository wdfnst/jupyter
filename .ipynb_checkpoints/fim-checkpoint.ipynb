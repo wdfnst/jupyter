{
 "cells": [
  {
   "cell_type": "markdown",
   "metadata": {},
   "source": [
    "### Association Rules Mining"
   ]
  },
  {
   "cell_type": "code",
   "execution_count": 2,
   "metadata": {
    "scrolled": true
   },
   "outputs": [
    {
     "data": {
      "text/plain": [
       "{frozenset({'b'}): 4,\n",
       " frozenset({'c'}): 4,\n",
       " frozenset({'b', 'c'}): 3,\n",
       " frozenset({'a'}): 3,\n",
       " frozenset({'a', 'c'}): 2}"
      ]
     },
     "execution_count": 2,
     "metadata": {},
     "output_type": "execute_result"
    }
   ],
   "source": [
    "from pymining import itemmining\n",
    "transactions = (('a', 'b', 'c'), ('b'), ('a'), ('a', 'c', 'd'), ('b', 'c'), ('b', 'c'))\n",
    "relim_input = itemmining.get_relim_input(transactions)\n",
    "report = itemmining.relim(relim_input, min_support=2)\n",
    "report\n"
   ]
  },
  {
   "cell_type": "markdown",
   "metadata": {},
   "source": [
    "from pymining import perftesting\n",
    "perftesting.test_itemset_perf()"
   ]
  },
  {
   "cell_type": "markdown",
   "metadata": {},
   "source": [
    "### Association Rules Mining"
   ]
  },
  {
   "cell_type": "code",
   "execution_count": 3,
   "metadata": {},
   "outputs": [
    {
     "data": {
      "text/plain": [
       "[(frozenset({'c', 'd'}), frozenset({'b'}), 2, 0.6666666666666666),\n",
       " (frozenset({'b', 'c'}), frozenset({'d'}), 2, 0.5),\n",
       " (frozenset({'d', 'e'}), frozenset({'c'}), 2, 0.6666666666666666),\n",
       " (frozenset({'e'}), frozenset({'c', 'd'}), 2, 0.6666666666666666),\n",
       " (frozenset({'c', 'e'}), frozenset({'d'}), 2, 1.0),\n",
       " (frozenset({'c', 'd'}), frozenset({'e'}), 2, 0.6666666666666666),\n",
       " (frozenset({'a', 'd'}), frozenset({'b'}), 2, 0.5),\n",
       " (frozenset({'a'}), frozenset({'b', 'd'}), 2, 0.5),\n",
       " (frozenset({'a', 'b'}), frozenset({'d'}), 2, 1.0),\n",
       " (frozenset({'d', 'e'}), frozenset({'b'}), 2, 0.6666666666666666),\n",
       " (frozenset({'e'}), frozenset({'b', 'd'}), 2, 0.6666666666666666),\n",
       " (frozenset({'b', 'e'}), frozenset({'d'}), 2, 1.0),\n",
       " (frozenset({'d'}), frozenset({'a'}), 4, 0.5),\n",
       " (frozenset({'a'}), frozenset({'d'}), 4, 1.0),\n",
       " (frozenset({'c'}), frozenset({'d'}), 3, 0.6),\n",
       " (frozenset({'e'}), frozenset({'b'}), 2, 0.6666666666666666),\n",
       " (frozenset({'e'}), frozenset({'d'}), 3, 1.0),\n",
       " (frozenset({'b'}), frozenset({'c'}), 4, 0.5),\n",
       " (frozenset({'c'}), frozenset({'b'}), 4, 0.8),\n",
       " (frozenset({'a'}), frozenset({'b'}), 2, 0.5),\n",
       " (frozenset({'e'}), frozenset({'c'}), 2, 0.6666666666666666),\n",
       " (frozenset({'d'}), frozenset({'b'}), 6, 0.75),\n",
       " (frozenset({'b'}), frozenset({'d'}), 6, 0.75)]"
      ]
     },
     "execution_count": 3,
     "metadata": {},
     "output_type": "execute_result"
    }
   ],
   "source": [
    "from pymining import itemmining, assocrules, perftesting\n",
    "transactions = perftesting.get_default_transactions()\n",
    "relim_input = itemmining.get_relim_input(transactions)\n",
    "item_sets = itemmining.relim(relim_input, min_support=2)\n",
    "rules = assocrules.mine_assoc_rules(item_sets, min_support=2, min_confidence=0.5)\n",
    "rules"
   ]
  },
  {
   "cell_type": "markdown",
   "metadata": {},
   "source": [
    "### Frequent Sequence Mining"
   ]
  },
  {
   "cell_type": "code",
   "execution_count": 4,
   "metadata": {
    "scrolled": true
   },
   "outputs": [
    {
     "data": {
      "text/plain": [
       "[(('a',), 4),\n",
       " (('a', 'a'), 2),\n",
       " (('a', 'b'), 4),\n",
       " (('a', 'b', 'b'), 2),\n",
       " (('a', 'b', 'c'), 4),\n",
       " (('a', 'c'), 4),\n",
       " (('b',), 4),\n",
       " (('b', 'b'), 2),\n",
       " (('b', 'c'), 4),\n",
       " (('c',), 4),\n",
       " (('c', 'a'), 3),\n",
       " (('c', 'a', 'b'), 2),\n",
       " (('c', 'a', 'b', 'c'), 2),\n",
       " (('c', 'a', 'c'), 2),\n",
       " (('c', 'b'), 3),\n",
       " (('c', 'b', 'c'), 2),\n",
       " (('c', 'c'), 2)]"
      ]
     },
     "execution_count": 4,
     "metadata": {},
     "output_type": "execute_result"
    }
   ],
   "source": [
    "from pymining import seqmining\n",
    "seqs = ( 'caabc', 'abcb', 'cabc', 'abbca')\n",
    "freq_seqs = seqmining.freq_seq_enum(seqs, 2)\n",
    "sorted(freq_seqs)"
   ]
  },
  {
   "cell_type": "code",
   "execution_count": 26,
   "metadata": {},
   "outputs": [
    {
     "name": "stdout",
     "output_type": "stream",
     "text": [
      "\n",
      "\n",
      "author\tMiroslaw Truszczynski\n",
      "author\tStefan Woltran\n",
      "title\tHyperequivalence of Logic Programs with Respect to Supported Models.\n",
      "year\t2008\n",
      "Conference\tAAAI\n",
      "\n",
      "27455\n",
      "['', 'author\\tMiroslaw Truszczynski', 'author\\tStefan Woltran', 'title\\tHyperequivalence of Logic Programs with Respect to Supported Models.', 'year\\t2008', 'Conference\\tAAAI', '']\n",
      "\n",
      "\n",
      "a\n",
      "u\n",
      "t\n",
      "h\n",
      "o\n",
      "r\n",
      "\t\n",
      "M\n",
      "i\n",
      "r\n",
      "o\n",
      "s\n",
      "l\n",
      "a\n",
      "w\n",
      " \n",
      "T\n",
      "r\n",
      "u\n",
      "s\n",
      "z\n",
      "c\n",
      "z\n",
      "y\n",
      "n\n",
      "s\n",
      "k\n",
      "i\n",
      "\n",
      "\n",
      "a\n",
      "u\n",
      "t\n",
      "h\n",
      "o\n",
      "r\n",
      "\t\n",
      "S\n",
      "t\n",
      "e\n",
      "f\n",
      "a\n",
      "n\n",
      " \n",
      "W\n",
      "o\n",
      "l\n",
      "t\n",
      "r\n",
      "a\n",
      "n\n",
      "\n",
      "\n",
      "t\n",
      "i\n",
      "t\n",
      "l\n",
      "e\n",
      "\t\n",
      "H\n",
      "y\n",
      "p\n",
      "e\n",
      "r\n",
      "e\n",
      "q\n",
      "u\n",
      "i\n",
      "v\n",
      "a\n",
      "l\n",
      "e\n",
      "n\n",
      "c\n",
      "e\n",
      " \n",
      "o\n",
      "f\n",
      " \n",
      "L\n",
      "o\n",
      "g\n",
      "i\n",
      "c\n",
      " \n",
      "P\n",
      "r\n",
      "o\n",
      "g\n",
      "r\n",
      "a\n",
      "m\n",
      "s\n",
      " \n",
      "w\n",
      "i\n",
      "t\n",
      "h\n",
      " \n",
      "R\n",
      "e\n",
      "s\n",
      "p\n",
      "e\n",
      "c\n",
      "t\n",
      " \n",
      "t\n",
      "o\n",
      " \n",
      "S\n",
      "u\n",
      "p\n",
      "p\n",
      "o\n",
      "r\n",
      "t\n",
      "e\n",
      "d\n",
      " \n",
      "M\n",
      "o\n",
      "d\n",
      "e\n",
      "l\n",
      "s\n",
      ".\n",
      "\n",
      "\n",
      "y\n",
      "e\n",
      "a\n",
      "r\n",
      "\t\n",
      "2\n",
      "0\n",
      "0\n",
      "8\n",
      "\n",
      "\n",
      "C\n",
      "o\n",
      "n\n",
      "f\n",
      "e\n",
      "r\n",
      "e\n",
      "n\n",
      "c\n",
      "e\n",
      "\t\n",
      "A\n",
      "A\n",
      "A\n",
      "I\n",
      "\n",
      "\n"
     ]
    },
    {
     "ename": "TypeError",
     "evalue": "can only concatenate list (not \"str\") to list",
     "output_type": "error",
     "traceback": [
      "\u001b[0;31m---------------------------------------------------------------------------\u001b[0m",
      "\u001b[0;31mTypeError\u001b[0m                                 Traceback (most recent call last)",
      "\u001b[0;32m<ipython-input-26-a4c5765c7736>\u001b[0m in \u001b[0;36m<module>\u001b[0;34m()\u001b[0m\n\u001b[1;32m     33\u001b[0m \u001b[0mprint\u001b[0m\u001b[0;34m(\u001b[0m\u001b[0mlen\u001b[0m\u001b[0;34m(\u001b[0m\u001b[0mblocks\u001b[0m\u001b[0;34m)\u001b[0m\u001b[0;34m)\u001b[0m\u001b[0;34m\u001b[0m\u001b[0m\n\u001b[1;32m     34\u001b[0m \u001b[0mart\u001b[0m \u001b[0;34m=\u001b[0m \u001b[0mArticle\u001b[0m\u001b[0;34m(\u001b[0m\u001b[0mblocks\u001b[0m\u001b[0;34m[\u001b[0m\u001b[0;36m1\u001b[0m\u001b[0;34m]\u001b[0m\u001b[0;34m)\u001b[0m\u001b[0;34m\u001b[0m\u001b[0m\n\u001b[0;32m---> 35\u001b[0;31m \u001b[0mart\u001b[0m\u001b[0;34m.\u001b[0m\u001b[0mdisplay\u001b[0m\u001b[0;34m(\u001b[0m\u001b[0;34m)\u001b[0m\u001b[0;34m\u001b[0m\u001b[0m\n\u001b[0m",
      "\u001b[0;32m<ipython-input-26-a4c5765c7736>\u001b[0m in \u001b[0;36mdisplay\u001b[0;34m(self)\u001b[0m\n\u001b[1;32m     18\u001b[0m \u001b[0;34m\u001b[0m\u001b[0m\n\u001b[1;32m     19\u001b[0m     \u001b[0;32mdef\u001b[0m \u001b[0mdisplay\u001b[0m\u001b[0;34m(\u001b[0m\u001b[0mself\u001b[0m\u001b[0;34m)\u001b[0m\u001b[0;34m:\u001b[0m\u001b[0;34m\u001b[0m\u001b[0m\n\u001b[0;32m---> 20\u001b[0;31m         \u001b[0mstr\u001b[0m \u001b[0;34m=\u001b[0m \u001b[0mself\u001b[0m\u001b[0;34m.\u001b[0m\u001b[0mauthors\u001b[0m \u001b[0;34m+\u001b[0m \u001b[0;34m' '\u001b[0m \u001b[0;34m+\u001b[0m \u001b[0mself\u001b[0m\u001b[0;34m.\u001b[0m\u001b[0mtitle\u001b[0m \u001b[0;34m+\u001b[0m \u001b[0;34m' '\u001b[0m \u001b[0;34m+\u001b[0m \u001b[0mself\u001b[0m\u001b[0;34m.\u001b[0m\u001b[0mconference\u001b[0m\u001b[0;34m\u001b[0m\u001b[0m\n\u001b[0m\u001b[1;32m     21\u001b[0m         \u001b[0mprint\u001b[0m\u001b[0;34m(\u001b[0m\u001b[0mstr\u001b[0m\u001b[0;34m)\u001b[0m\u001b[0;34m\u001b[0m\u001b[0m\n\u001b[1;32m     22\u001b[0m \u001b[0;34m\u001b[0m\u001b[0m\n",
      "\u001b[0;31mTypeError\u001b[0m: can only concatenate list (not \"str\") to list"
     ]
    }
   ],
   "source": [
    "class Article:\n",
    "    def __init__(self, str):\n",
    "        self.authors = []\n",
    "        lines = str.split('\\n')\n",
    "        print(lines)\n",
    "        for line in str:\n",
    "            if line == '':\n",
    "                continue\n",
    "            print(line)\n",
    "            continue\n",
    "            key, value = line.split('\\t', 1)\n",
    "            if key == author:\n",
    "                self.authors.append(value)\n",
    "            elif key == 'title':\n",
    "                self.title = value\n",
    "            elif key == 'Conference':\n",
    "                self.conference = value\n",
    "    \n",
    "    def display(self):\n",
    "        str = self.authors + ' ' + self.title + ' ' + self.conference\n",
    "        print(str)\n",
    "    \n",
    "    \n",
    "def parse_article(filename):\n",
    "    fin = open(filename)\n",
    "    pass\n",
    "\n",
    "fin = open('data/FilteredDBLP.txt')\n",
    "content = fin.read()\n",
    "blocks = content.split('#########')\n",
    "print(blocks[0])\n",
    "print(blocks[1])\n",
    "print(len(blocks))\n",
    "art = Article(blocks[1])\n",
    "art.display()"
   ]
  }
 ],
 "metadata": {
  "kernelspec": {
   "display_name": "Python 3",
   "language": "python",
   "name": "python3"
  },
  "language_info": {
   "codemirror_mode": {
    "name": "ipython",
    "version": 3
   },
   "file_extension": ".py",
   "mimetype": "text/x-python",
   "name": "python",
   "nbconvert_exporter": "python",
   "pygments_lexer": "ipython3",
   "version": "3.5.2"
  }
 },
 "nbformat": 4,
 "nbformat_minor": 2
}
