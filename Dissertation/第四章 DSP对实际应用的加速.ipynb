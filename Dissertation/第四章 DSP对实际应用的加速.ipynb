{
 "cells": [
  {
   "cell_type": "markdown",
   "metadata": {},
   "source": [
    "## 第四章 DSP对实际应用的加速"
   ]
  },
  {
   "cell_type": "markdown",
   "metadata": {},
   "source": [
    "### 4.1 平台介绍\n",
    "试验中用到的设备包括20台高性能服务器,通过高速以太网(40Gbit/s或换算为3.2GB/s)和InfiniBand网络(6.8GB/s)相 互连接.每台服务器由两片Intel Xeon E5520处理器(4核×2.27GHz)和48G内存以及其他外设组成.除GMRES和SGD外,所 有其他的算法的实现都采用了C++和MPI接口.因为MPI默认优先使用InifiBand通道,所以这里由MPI实现的算法都采 用InifiBand进行通信.(因为DSP是通过减少通信开销来对算法进行加速的,在高速网络中由于通信延迟低,所以,其加速性 能并没有得到充分的展示.在由TCP/IP网络连接的通用计算集群中,DSP的加速性能会比下面列出的结果更加突出.)"
   ]
  },
  {
   "cell_type": "markdown",
   "metadata": {},
   "source": [
    "### 4.1 PageRank算法\n",
    "1) PageRank: PageRank通过赋予web网络中每个页面一个权重,并以此来衡量每个页面的相对重要程度.其计算既 可以通过代数方法求解也可通过迭代法求解,迭代计算公式为:$$\\displaystyle PR(p_i)=\\frac{(1-c)}{N} + c\\Sigma_{p_j\\in N(p_i)}\\frac{PR(p_j)}{L(p_j)},$$ 其中, $p_1, p_2,\\dots, p_n$表示需要计算PageRank值的网页, N(p$_i$)表示所有连接指向pi的网页的集合, L($p_j$)表示网页$p_j$的出度, N表示所有网页的数目. 常数$\\frac{1−c}{N}$表示网页浏览者随机打开一个网页的概率, 这个机制用来解决和防止\"终止点问题\"和\"陷阱问题\".    \n",
    "\n",
    "#### 4.1.1 收敛性证明\n",
    "根据我们在第三章中的论述, 算法对应的DSP迭代收敛的条件是: 当$\\Delta=2$时, 算法收敛, 那么当$\\Delta>2$时, 算法也收敛. 接下来, 我们将证明当$\\Delta=2$时, 算法收敛. 我们采用数值计算的不动点迭代方法. \n",
    "\n",
    "#### 4.1.2 实验数据\n",
    "我们收集了若干真实web网络图数据, 并对他们的基本信息进行了统计.如表III所示,指标包括顶点数(#vertex), 边数(#edge), 平均出度(averOutd),最大出度(maxOutd), 最小出度(minOutd). 从其平均出度来看, 这些web图其实并不算稀疏. 并且, web图的入度分布一般都高度畸形, 即其节点的入度悬殊非常之大.    \n",
    "<img src=\"image/betagamma.jpeg\" width=\"400\">\n",
    "\n",
    "#### 4.1.3 实验结果\n",
    "将表III中的图近似等份划分, 并分发到不同的计算节点. 在每个计算节点上每执行∆步局部计算, 进行一次全局大同步. 图5(a-c)展示了DSP的加速效果.数字显示DSP可以显著减少BSP迭代轮数, 进而减少算法收敛时间. 在这组试验中, 我们采用了Metis工具包[26]来进行图划分. 与此同时,我们还在随机切分的子图上进行了同样的测试,结果显示除∆ = 2有少许加速外, DSP算法的速度甚至还不如BSP. 这个结果也印证了我们在第IV-C节中的分析, s即DSP的加速效果十分依赖于β和γ.\n",
    "\n",
    "#### 4.1.4 结论"
   ]
  },
  {
   "cell_type": "markdown",
   "metadata": {},
   "source": [
    "### 4.2 单源最短路算法(SSSP)\n",
    "为方便说明,我们在图6中列举了一个简单的单源最短路求解的例子,用来说明DSP加速单源最短路这类图算法的 原理.图中每个网格表示一个计算节点,分别负责计算部分图顶点的最短路.子图(a),(b)中随着着色的变化或加深分别 展示了DSP和BSP的迭代过程.由于DSP在一次超级计算步可以执行多次局部计算,实际上就将最短路向前传递了多 步,而BSP每次却只能前进一步.子图(a)中使用DSP加速,整个计算过程仅需5次全局同步即可收敛,而子图(b)使用BSP迭代 需要13次同步,在这个例子中DSP加速比为2.6倍.\n",
    "\n",
    "<img src=\"image/sssp.jpeg\" width=\"400\">\n",
    "\n",
    "#### 4.2.1 收敛性证明\n",
    "根据我们在第三章中的论述, 算法对应的DSP迭代收敛的条件是: 当$\\Delta=2$时, 算法收敛, 那么当$\\Delta>2$时, 算法也收敛. 接下来, 我们将证明当$\\Delta=2$时, 算法收敛. 我们采用数值计算的不动点迭代方法.\n",
    "\n",
    "为验证DSP用于实际路图中加速单源最短路算法的性能,我们采用了美国若干州的路图来进行试验.同样,为验证我 们在IV-C节中的分析,我们使用了如下两种方法对数据进行划分:(i)随机划分;(ii)Metis软件包划分.路图的的基本信息及统 计如表IV所示,可以看出路图是比web图稀疏多的自然图.\n",
    "\n",
    "<img src=\"image/roadstat.jpeg\" width=\"400\">\n",
    "\n",
    "如图6所示,(d-f),(g-i)分别展示了用不同图划分方法所得子图进行实验的结果.数字显示采用Metis工具包分图 后,DSP的加速效果比采用随机分图的加速好多倍.这一结果进一步印证了我们在IV-C中的分析.同时,仅采用随机分 图,DSP对BSP的加速也可高达10倍左右.\n",
    "\n",
    "#### 4.2.2 实验数据\n",
    "\n",
    "#### 4.2.3 实验结果\n",
    "\n",
    "#### 4.2.4 结论"
   ]
  },
  {
   "cell_type": "markdown",
   "metadata": {},
   "source": [
    "### 4.3 雅各比迭代求线性方程组\n",
    "设$${\\displaystyle A\\mathbf {X} =\\mathbf {b} }$$表示一个由n个线性方程构成的线性方程组,其中,\n",
    "$$A={\\begin{bmatrix}a_{11}&a_{12}&\\cdots &a_{1n}\\\\a_{21}&a_{22}&\\cdots &a_{2n}\\\\\\vdots &\\vdots &\\ddots &\\vdots \\\\a_{n1}&a_{n2}&\\cdots &a_{nn}\\end{bmatrix}},\\quad \\mathbf {x} ={\\begin{bmatrix}x_{1}\\\\x_{2}\\\\\\vdots \\\\x_{n}\\end{bmatrix}},\\quad \\mathbf {b} ={\\begin{bmatrix}b_{1}\\\\b_{2}\\\\\\vdots \\\\b_{n}\\end{bmatrix}}.$$\n",
    "\\par 当系数矩阵A为低阶非稠密矩阵时,使用高斯主元消元法可以很高效的求解.但当系数矩阵为稀疏矩阵时,迭代法表现地更加高效,因为它能充分地利用系数矩阵中出现的大量零元,进而避免大量的不必要计算.\n",
    "\n",
    "Jacobi迭代求线性方程组的迭代式为:\n",
    "$${\\displaystyle x_{i}^{(k+1)}={\\frac {1}{a_{ii}}}\\left(b_{i}-\\sum _{j\\neq i}a_{ij}x_{j}^{(k)}\\right),\\quad i=1,2,\\ldots ,n.}$$\n",
    "\n",
    "\\par 试验采用了由10000个线性方程组成的方程组.将未知数向量$X$近似等份地分为20份,并分发到不同的服务器中.每台服务器上每进行$\\Delta$轮局部计算对应进行一次全局数据同步.实验结果如图\\ref{fig:dsponjacobi}所示,迭代的步数首先随着$\\Delta$的增加而减少,然后稳定在一个值周围.但收敛时间随着$\\Delta$的增加先减少再增加,下降之后之所以再增加是因为投机计算步并非越多越好,它同\n",
    "时会增加计算负担,从而抵消减少通信带来的好处.\n",
    "\n",
    "\n",
    "#### 4.3.1 收敛性证明\n",
    "根据我们在第三章中的论述, 算法对应的DSP迭代收敛的条件是: 当$\\Delta=2$时, 算法收敛, 那么当$\\Delta>2$时, 算法也收敛. 接下来, 我们将证明当$\\Delta=2$时, 算法收敛. 我们采用数值计算的不动点迭代方法.\n",
    "\n",
    "#### 4.3.4 与超松弛的关系\n",
    "超松弛法(Successive Over-Relaxation,简称SOR)\\cite{Hadjidimos2000Successive}是Jacobi迭代法的一种改进,可以实现比Jacobi迭代更快的收敛.其迭代公式为:\n",
    "$$\n",
    "  x_{i}^{(k+1)}=(1-\\omega )x_{i}^{(k)}+{\\frac {\\omega }{ a_{ii}}}(b_{i}-\\sum_{j<i}a_{ij}x_{j}^{(k+1)}-\\sum _{j>i}a_{ij}x_{j}^{(k)}), i=1,2,\\ldots,n. \\tag{1}\n",
    "$$\n",
    "其中,常数$\\omega>1$称之为松弛因子.\n",
    "\\par 为比较DSP加速Jacobi迭代的效果和SOR的关系,我们将执行一次超级计算步对$x_l$所做的操作做如下表示和变形,首先,用$x_i^{k+1},x_l^{k+1}$分别表示$x_i$和$x_l$在第$(k+1)$-th轮局部计算步的值:\n",
    "\\begin{align*}\n",
    "x_{i}^{(k+1)} &= \\frac{1}{a_{ii}}(b_i - \\sum_{\\substack{j<i}}^{} a_{ij}x_j^{(k+1)} - a_{il}x_l^{(k)} - \\sum_{\\substack{j>i \\\\ j\\neq l}}^{} a_{ij}x_j^{(k)}) \\\\\n",
    "x_{l}^{(k+1)} &= \\frac{1}{a_{ll}}(b_l - a_{li}x_i^{(k+1)} - \\sum_{\\substack{j<l \\\\ l\\neq i}}^{} a_{lj}x_j^{(k+1)} - \\sum_{\\substack{j>l}}^{} a_{lj}x_j^{(k)}) \\\\\n",
    "where &~i<l, ~take ~x_i^{(k+1)} ~into ~x_l^{k+1}, ~then \\\\\n",
    "x_{l}^{(k+1)} &= \\frac{1}{a_{ll}}(b_l - \\frac{a_{li}}{a_{ii}}(b_i - \\sum_{\\substack{j<i}}^{} a_{ij}x_j^{(k+1)} - a_{il}x_l^{(k)} - \\sum_{\\substack{j>i \\\\ j\\neq l}}^{} a_{ij}x_j^{(k)}) - \\sum_{\\substack{j<l \\\\ l\\neq i}}^{} a_{lj}x_j^{(k+1)} - \\sum_{\\substack{j>l}}^{} a_{lj}x_j^{(k)}) \\\\\n",
    "&= \\frac{a_{li} a_{il}}{a_{ll} a_{ii}} a_{il}x_l^{(k)} + \\frac{1}{a_{ll}}(b_l - \\frac{a_{li}}{a_{ii}}(b_i - \\sum_{\\substack{j<i}}^{} a_{ij}x_j^{(k+1)} - \\sum_{\\substack{j>i \\\\ j\\neq l}}^{} a_{ij}x_j^{(k)}) - \\sum_{\\substack{j<l \\\\ l\\neq i}}^{} a_{lj}x_j^{(k+1)} - \\sum_{\\substack{j>l}}^{} a_{lj}x_j^{(k)}) \\tag{2}\n",
    "\\end{align*}\n",
    "\\par 比较公式(1)和(2),我们发现DSP迭代递推公式和SOR的递推公式有着类似的形式,这进一步验证了我们在实验中的发现,即DSP和SOR可以同时减少迭代计算步和通信步的现象.\n",
    "\n",
    "#### 4.3.4 与GMRES性能比较\n",
    "广义最小残差算法(Generalized Minimal Residual Method,简称GMRES)[27]是求解线性方程组的一种公认高效 的迭代算法,并被广泛的应用于工业界和学术界.为评估DSP的加速性能和可扩展性,我们将其和GMRES算法的速 度进行了比较.在求解一个由10000个线性方程组成的方程组时,GMRES耗时0.037318秒和71轮迭代,DSP的性能如 图8所示,当∆ = 100时,DSP仅耗时0.018714秒和2轮迭代就达到了和GMRES同样的收敛精度.这一结果显示DSP在加 速Jacobi迭代法求解稀疏线性方程组上具有比肩最好方法的加速性能.\n",
    "\n",
    "#### 4.3.2 实验数据\n",
    "\n",
    "#### 4.3.3 实验结果\n",
    "\n",
    "#### 4.3.4 结论"
   ]
  },
  {
   "cell_type": "markdown",
   "metadata": {},
   "source": [
    "### 4.4 随机梯度下降\n",
    "\n",
    "#### 4.4.1 收敛性证明\n",
    "根据我们在第三章中的论述, 算法对应的DSP迭代收敛的条件是: 当$\\Delta=2$时, 算法收敛, 那么当$\\Delta>2$时, 算法也收敛. 接下来, 我们将证明当$\\Delta=2$时, 算法收敛. 我们采用数值计算的不动点迭代方法.\n",
    "\n",
    "#### 4.4.2 实验数据\n",
    "\n",
    "#### 4.4.3 实验结果\n",
    "\n",
    "#### 4.4.4 结论"
   ]
  },
  {
   "cell_type": "markdown",
   "metadata": {},
   "source": [
    "### 4.5 总结"
   ]
  }
 ],
 "metadata": {
  "kernelspec": {
   "display_name": "Python 3",
   "language": "python",
   "name": "python3"
  },
  "language_info": {
   "codemirror_mode": {
    "name": "ipython",
    "version": 3
   },
   "file_extension": ".py",
   "mimetype": "text/x-python",
   "name": "python",
   "nbconvert_exporter": "python",
   "pygments_lexer": "ipython3",
   "version": "3.5.2"
  }
 },
 "nbformat": 4,
 "nbformat_minor": 2
}
