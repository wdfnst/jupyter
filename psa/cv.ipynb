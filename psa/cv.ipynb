{
 "cells": [
  {
   "cell_type": "markdown",
   "metadata": {},
   "source": [
    "### 张尉东\n",
    "- 曾任职与国内外多家跨国公司和航天集团公司\n",
    "- 研究方向为并行/高性能计算和机器学习\n",
    "- 在无锡太湖之光超级计算机上的应用取得国际领先成果\n",
    "- 作为交换生的海外留学经验, 国际重要期刊发表论文\n",
    "- 北京大学计算机科学与技术系博士"
   ]
  }
 ],
 "metadata": {
  "kernelspec": {
   "display_name": "Python 3",
   "language": "python",
   "name": "python3"
  },
  "language_info": {
   "codemirror_mode": {
    "name": "ipython",
    "version": 3
   },
   "file_extension": ".py",
   "mimetype": "text/x-python",
   "name": "python",
   "nbconvert_exporter": "python",
   "pygments_lexer": "ipython3",
   "version": "3.5.2"
  }
 },
 "nbformat": 4,
 "nbformat_minor": 2
}
