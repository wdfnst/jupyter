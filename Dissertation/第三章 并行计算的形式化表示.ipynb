{
 "cells": [
  {
   "cell_type": "markdown",
   "metadata": {},
   "source": [
    "## 第三章 并行计算的形式化表示"
   ]
  },
  {
   "cell_type": "markdown",
   "metadata": {},
   "source": [
    "统一的表示形式, 对于研究并行算法至关重要. 将各种并行模型或算法统一表达后, 不仅有助于研究, 推导和证明其各种并行算法模型的正确性, 收敛性和执行过程, 同时还能横向比较各种算法的性能和执行特征.\n",
    "\n",
    "然而, 学界和工业界对分布式并行算法的形式化表示的研究和应用却十分缺乏. 文献[22-23]中方法是我们通过搜索和比较得出的比较系统和完备的方法. 本节提出的形式化表示方法与文献[22]中的方法有不少的共同点, 其不同在于我们的表示方法可以进一步表示出并行模型的迭代过程和迭代式.\n",
    "\n",
    "虽然, 本章并不是基于文献[22]中的方法演变而来, 但本章的结构参照了文献[22]中文章的组织架构."
   ]
  },
  {
   "cell_type": "markdown",
   "metadata": {},
   "source": [
    "### 3.1 符号定义及运算符定义\n",
    "\n",
    "#### 3.1.1 看待算法中的输入数据和操作的视角\n",
    "我们将并行算法看做是对输入数据进行一轮轮变换. 每轮变换得到的结果又进入到下一轮变换, 直到算法满足收敛条件停止运行, 其迭代过程可表示为$$X_{t+1} = F(X_t),$$ 其中, $X_t$和$X_{t+1}$分别表示$t+1$时刻的输入和输出数据, $f(X)$表示并行算法进行的转换. 用向量形式表示输入输出数据可表达为$$(x_t^{(1)}, x_t^{(2)}, x_t^{(3)}, \\dots, x_t^{(n)}) \\overset{F}{\\rightarrow} (x_{t+1}^{(1)}, x_{t+1}^{(2)}, x_{t+1}^{(3)}, \\dots, x_{t+1}^{(n)}).$$ 我们认为$t+1$时刻输出数据中的每一维分量$x_{t+1}^{(i)}$由与之相关的其他分量与其作用之后对其所产生的影响聚合的结果, 我们用如下图示来表达这个过程:\n",
    "<img src=\"image/formalization.jpeg\" width=\"600\">\n",
    "图中, $f_{ij}$表示转换过程中分量$x^{(i)}$与$x^{(j)}$之间运算, 也可理解为$x^{(i)}$对$x^{(j)}$在本轮运算中施加的改变. 将所有分量对$x^{(j)}$产生的改变进行聚合, 就可以得到本轮迭代$x^{(j)}$的输出. \n",
    "\n",
    "这样对算法所进行的操作分解为集合$F={f_{ij}}$的好处在于我们可以对操作进行划分. 加之数据划分, 我们可以更加准确的描述在每个计算节点发生的动作及对应的数据. 为更严密地描述我们的想法, 接下来部分, 我们定义了若干符号以及例子.\n",
    "\n",
    "#### 3.1.2 符号定义\n",
    "- $X_0$:迭代计算初始输入变量.向量表示为$(x_0,x_1,...,x_n)$.$x_i$可以表示各种类型的数据,如图计算中顶点信息,线性方程组中的未知数等.\n",
    "-  $X_k$:迭代计算的第k轮输出.在实际并行计算中,变量$X$被切分为多段并分布到不同的计算节点上进行计算,$X_k^{(p,q)}$表示仅被更新了从$x_p$到$x_q$一段分量的输出变量$X_k$.\n",
    "- F:关系矩阵.$F_{i,j}$实际上定义$x_i$和$x_j$之间的运算,表达为函数形式为$F_{i,j}(x_i,x_j)$,或简写为$F_{i,j}(x_i)$,运算结果返回给$x_j$供其进一步与其他所依赖的变量计算产生的结果进行聚合.(在具体实现算法时,$F_{i,j}$通常被表达为一个数学公式,函数,过程或方法.)\n",
    "\n",
    "\\begin{align*}\n",
    "\\begin{pmatrix}\n",
    "          F_{0,0} & F_{0,1} & \\dots & F_{0,m} \\\\\n",
    "          F_{1,0} & F_{1,1} & \\dots & F_{1, m} \\\\\n",
    "          & & \\dots & \\\\\n",
    "          F_{n,0} & F_{n,1} & \\dots & F_{n,m}\n",
    "\\end{pmatrix}\n",
    "\\end{align*}\n",
    "$F^{(p,q)}$ 表示对输入变量进行一次部分转换.$F^{(p,q)}$仅仅计算和更新$x_p$和$x_q$之间的变量.其定义如下:\n",
    "\\begin{align*}\n",
    "% F^{(p,q)}= \\quad\\quad\\quad\\quad\\quad\\quad\\quad\\quad\\quad\\quad\\quad\\quad\\quad\\quad\\quad\\quad\\quad\\quad\\quad\\quad\\quad \\\\\n",
    "        \\begin{pmatrix}\n",
    "          1 & 0 & \\dots & 0 & F_{0,p} & \\dots & F_{0,q} & 0 & \\dots & 0 \\\\\n",
    "          0 & 1 & \\dots & 0 & F_{1,p} & \\dots & F_{1,q} & 0 & \\dots & 0 \\\\\n",
    "          \\vdots & \\vdots & \\ddots & \\vdots & \\vdots & \\ddots & \\vdots & \\vdots & \\ddots & \\vdots\\\\\n",
    "          0 & 0 & \\dots & 1 & F_{p-1,p} & \\dots & F_{p-1,q} & 0 & \\dots & 0 \\\\\n",
    "          0 & 0 & \\dots & 0 & F_{p,p} & \\dots & F_{p,q} & 0 & \\dots & 0 \\\\\n",
    "          \\vdots & \\vdots & \\ddots & \\vdots & \\vdots & \\ddots & \\vdots & \\vdots & \\ddots & \\vdots\\\\\n",
    "          0 & 0 & \\dots & 0 & F_{q,p} & \\dots & F_{q,q} & 0 & \\dots & 0 \\\\\n",
    "          0 & 0 & \\dots & 0 & F_{q+1,p} & \\dots & F_{q+1,q} & 1 & \\dots & 0 \\\\\n",
    "          \\vdots & \\vdots & \\ddots & \\vdots & \\vdots & \\ddots & \\vdots & \\vdots & \\ddots & \\vdots\\\\\n",
    "          0 & 0 & \\dots & 0 & F_{n,p} & \\dots & F_{n,q} & 0 & \\dots & 1 \\\\\n",
    "        \\end{pmatrix} \\\\\n",
    "\\end{align*}\n",
    "使用向量与矩阵相乘的规则,$X$的分量被投射到$F_{i,j}$上进行运算,最终只有$x_p$到$x_q$之间的变量才进行了运算和更新,其余分量都会保持不变.\n",
    "- $\\biguplus$:聚合操作符.此运算符将$\\{F_{i,j}(x_i) | i=0,1,2,\\dots,n.\\}$中所有运算结果进行聚合,聚合得到的值将作为$x_j$本轮迭代计算的结果.公式为$$\\biguplus_{i=0}^nF_{i,j}(x_i,x_j),~abbreviated~as \\biguplus_{i=0}^nF_{i,j}(x_i).$$常见的聚合操作有min(), max(), average(), $\\sum$, $\\Pi$等.\n",
    "- $\\otimes$:转换运算符.该操作符将关系矩阵在输入变量上作用一次.\n",
    "\n",
    "#### 3.1.3 分布式环境下的调整"
   ]
  },
  {
   "cell_type": "markdown",
   "metadata": {},
   "source": [
    "### 3.2 基于关系矩阵乘法的形式化表示\n",
    "\n",
    "$\\Delta$"
   ]
  },
  {
   "cell_type": "markdown",
   "metadata": {},
   "source": [
    "### 3.3 有效性和性能比较"
   ]
  },
  {
   "cell_type": "markdown",
   "metadata": {},
   "source": [
    "### 3.4 优化"
   ]
  },
  {
   "cell_type": "markdown",
   "metadata": {},
   "source": [
    "### 3.5 其他相关工作"
   ]
  },
  {
   "cell_type": "markdown",
   "metadata": {},
   "source": [
    "### 3.6 总结"
   ]
  }
 ],
 "metadata": {
  "kernelspec": {
   "display_name": "Python 3",
   "language": "python",
   "name": "python3"
  },
  "language_info": {
   "codemirror_mode": {
    "name": "ipython",
    "version": 3
   },
   "file_extension": ".py",
   "mimetype": "text/x-python",
   "name": "python",
   "nbconvert_exporter": "python",
   "pygments_lexer": "ipython3",
   "version": "3.5.2"
  }
 },
 "nbformat": 4,
 "nbformat_minor": 2
}
