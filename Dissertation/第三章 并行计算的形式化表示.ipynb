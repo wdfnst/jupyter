{
 "cells": [
  {
   "cell_type": "markdown",
   "metadata": {},
   "source": [
    "## 第三章 并行计算的形式化表示"
   ]
  },
  {
   "cell_type": "markdown",
   "metadata": {},
   "source": [
    "统一的表示形式, 对于研究并行算法至关重要. 将各种并行模型或算法统一表达后, 不仅有助于研究, 推导和证明其各种并行算法模型的正确性, 收敛性和执行过程, 同时还能横向比较各种算法的性能和执行特征.\n",
    "\n",
    "然而, 学界和工业界对分布式并行算法的形式化表示的研究和应用却十分缺乏. 文献[22-23]中方法是我们通过搜索和比较得出的比较系统和完备的方法. 本节提出的形式化表示方法与文献[22]中的方法有不少的共同点, 其不同在于我们的表示方法可以进一步表示出并行模型的迭代过程和迭代式.\n",
    "\n",
    "虽然, 本章并不是基于文献[22]中的方法演变而来, 但本章的结构参照了文献[22]中文章的组织架构."
   ]
  },
  {
   "cell_type": "markdown",
   "metadata": {},
   "source": [
    "### 3.1 符号定义及运算符定义"
   ]
  },
  {
   "cell_type": "markdown",
   "metadata": {},
   "source": [
    "### 3.2 基于关系矩阵乘法的形式化表示"
   ]
  },
  {
   "cell_type": "markdown",
   "metadata": {},
   "source": [
    "### 3.3 有效性和性能比较"
   ]
  },
  {
   "cell_type": "markdown",
   "metadata": {},
   "source": [
    "### 3.4 优化"
   ]
  },
  {
   "cell_type": "markdown",
   "metadata": {},
   "source": [
    "### 3.5 O"
   ]
  },
  {
   "cell_type": "markdown",
   "metadata": {},
   "source": [
    "### 3.6 总结"
   ]
  }
 ],
 "metadata": {
  "kernelspec": {
   "display_name": "Python 3",
   "language": "python",
   "name": "python3"
  },
  "language_info": {
   "codemirror_mode": {
    "name": "ipython",
    "version": 3
   },
   "file_extension": ".py",
   "mimetype": "text/x-python",
   "name": "python",
   "nbconvert_exporter": "python",
   "pygments_lexer": "ipython3",
   "version": "3.5.2"
  }
 },
 "nbformat": 4,
 "nbformat_minor": 2
}
